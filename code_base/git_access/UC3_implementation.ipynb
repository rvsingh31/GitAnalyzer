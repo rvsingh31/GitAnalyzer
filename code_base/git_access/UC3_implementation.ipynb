{
 "cells": [
  {
   "cell_type": "code",
   "execution_count": 2,
   "metadata": {},
   "outputs": [],
   "source": [
    "import get_api_data,git_local\n",
    "import pandas as pd\n",
    "from flatten_dict import flatten\n",
    "from datetime import datetime\n",
    "from dateutil import relativedelta"
   ]
  },
  {
   "cell_type": "code",
   "execution_count": 3,
   "metadata": {},
   "outputs": [],
   "source": [
    "access_token = 'ef66b5bf5fd6c14d63586bf00caa9e72c78cc675'\n",
    "repo_owner = 'rspec'\n",
    "git_url = 'git://github.com/rspec/rspec-rails.git'\n",
    "api_base_url = 'https://api.github.com'\n",
    "repo_name = 'rspec-rails'"
   ]
  },
  {
   "cell_type": "code",
   "execution_count": 4,
   "metadata": {},
   "outputs": [],
   "source": [
    "local = git_local.git_local(git_url,repo_name)\n",
    "repo = local.clone_repo()\n",
    "commits = local.get_commits()\n",
    "commit_df = pd.DataFrame(commits, columns = ['commit_id','commit_time','author','author_email',\n",
    "                                             'committer','committer_email','comments','commit_parent'])\n",
    "committed_files = local.get_committed_files()\n",
    "committed_files_df = pd.DataFrame(committed_files, columns = ['commit_id','file_id','modification_type','file_name'])"
   ]
  },
  {
   "cell_type": "code",
   "execution_count": 7,
   "metadata": {},
   "outputs": [],
   "source": [
    "def isBuggyCommit(commit):\n",
    "    res=re.search(r'\\b{bug|fix|issue|error|correct|proper|deprecat|broke|optimize|patch|solve|slow|obsolete|vulnerab|debug|perf|memory|minor|wart|better|complex|break|investigat|compile|defect|inconsist|crash|problem|resol|#}\\b',utils().stemming(commit),re.IGNORECASE)\n",
    "    if res is not None:\n",
    "        return True"
   ]
  },
  {
   "cell_type": "code",
   "execution_count": 9,
   "metadata": {},
   "outputs": [],
   "source": [
    "def buggy_commits(commits):\n",
    "    commit['isBuggy'] = pd.Series([0]*commit.shape[0])\n",
    "    for i in range(commits.shape[0]):\n",
    "        result = isBuggyCommit(commits.loc[i,'message'])\n",
    "        if result:\n",
    "            commits.loc[i,'isBuggy'] = 1\n",
    "        else:\n",
    "            commits.loc[i,'isBuggy'] = 0\n",
    "    return commits"
   ]
  },
  {
   "cell_type": "code",
   "execution_count": null,
   "metadata": {},
   "outputs": [],
   "source": [
    "def get_diffs(repo,commits):\n",
    "    diffs = {}\n",
    "    for i in range(len(commits)):\n",
    "        t0 = repo.get(commits[i])\n",
    "        files = {}\n",
    "        if len(t0.parents) == 0:\n",
    "            continue\n",
    "        if i != 0:\n",
    "            t1 = t0.parents[0]\n",
    "        else:\n",
    "            continue\n",
    "        _diff = repo.diff(t1,t0)\n",
    "        for diff_i in _diff.__iter__():\n",
    "            file_path = diff_i.delta.new_file.path\n",
    "            old_lineno = []\n",
    "            new_lineno = []\n",
    "            for x in diff_i.hunks:\n",
    "                for y in x.lines:\n",
    "                    old_lineno.append(y.old_lineno)\n",
    "                    new_lineno.append(y.new_lineno)\n",
    "            files[diff_i.delta.new_file.id] = {'file_path':file_path, 'old_lines':old_lineno,'new_lines':new_lineno}\n",
    "        diffs[t0.id] = {'files':files,'object':t0}\n",
    "    return diffs"
   ]
  }
 ],
 "metadata": {
  "kernelspec": {
   "display_name": "Python 3",
   "language": "python",
   "name": "python3"
  },
  "language_info": {
   "codemirror_mode": {
    "name": "ipython",
    "version": 3
   },
   "file_extension": ".py",
   "mimetype": "text/x-python",
   "name": "python",
   "nbconvert_exporter": "python",
   "pygments_lexer": "ipython3",
   "version": "3.7.1"
  }
 },
 "nbformat": 4,
 "nbformat_minor": 2
}
