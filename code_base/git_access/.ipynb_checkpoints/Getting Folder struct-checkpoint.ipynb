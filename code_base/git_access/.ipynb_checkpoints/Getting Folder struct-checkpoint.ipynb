{
 "cells": [
  {
   "cell_type": "code",
   "execution_count": 1,
   "metadata": {},
   "outputs": [],
   "source": [
    "import os\n",
    "import get_api_data,git_local\n",
    "import pandas as pd\n",
    "from flatten_dict import flatten\n",
    "from datetime import datetime\n",
    "from dateutil import relativedelta\n",
    "import pprint\n",
    "import json\n",
    "from pathlib import Path, PureWindowsPath\n",
    "import platform\n",
    "import shutil\n",
    "import stat"
   ]
  },
  {
   "cell_type": "code",
   "execution_count": 2,
   "metadata": {},
   "outputs": [],
   "source": [
    "access_token = 'ef66b5bf5fd6c14d63586bf00caa9e72c78cc675'\n",
    "repo_owner = 'rspec'\n",
    "git_url = 'git://github.com/rspec/rspec-rails.git'\n",
    "api_base_url = 'https://api.github.com'\n",
    "repo_name = 'rspec-rails'\n",
    "# repo_name = git_url.split('/')[-1].split('.')[0]\n",
    "client = get_api_data.get_data(access_token,repo_owner,api_base_url,repo_name) "
   ]
  },
  {
   "cell_type": "code",
   "execution_count": 3,
   "metadata": {},
   "outputs": [],
   "source": [
    "local = git_local.git_local(git_url,repo_name)"
   ]
  },
  {
   "cell_type": "code",
   "execution_count": 4,
   "metadata": {},
   "outputs": [],
   "source": [
    "local.clone_repo()\n",
    "path = local.repo_path"
   ]
  },
  {
   "cell_type": "code",
   "execution_count": 5,
   "metadata": {},
   "outputs": [],
   "source": [
    "flag = False\n",
    "root = \"\"\n",
    "if platform.system() == 'Darwin' or platform.system() == 'Linux':\n",
    "    root = path + \"/\"\n",
    "else:\n",
    "    flag = True\n",
    "    root = path + \"\\\\\"\n",
    "    \n",
    "def path_to_dict(path):\n",
    "    d = {'name': os.path.basename(path)}\n",
    "    rel = path.replace(root,'')\n",
    "    if flag:\n",
    "        rel = '/'.join(rel.split('\\\\'))\n",
    "    d['path'] = rel\n",
    "    if os.path.isdir(path):\n",
    "        d['type'] = r\"directory\"\n",
    "        d['children'] = [path_to_dict(os.path.join(path,x)) for x in os.listdir\\\n",
    "(path)]\n",
    "    else:\n",
    "        d['type'] = \"file\"\n",
    "    return d\n",
    "\n",
    "structure = json.dumps(path_to_dict(path))\n",
    "file = open(\"f3.json\",\"w\")\n",
    "file.write(structure)\n",
    "file.close()\n"
   ]
  },
  {
   "cell_type": "code",
   "execution_count": 10,
   "metadata": {},
   "outputs": [],
   "source": []
  }
 ],
 "metadata": {
  "kernelspec": {
   "display_name": "Python 3",
   "language": "python",
   "name": "python3"
  },
  "language_info": {
   "codemirror_mode": {
    "name": "ipython",
    "version": 3
   },
   "file_extension": ".py",
   "mimetype": "text/x-python",
   "name": "python",
   "nbconvert_exporter": "python",
   "pygments_lexer": "ipython3",
   "version": "3.6.7"
  }
 },
 "nbformat": 4,
 "nbformat_minor": 2
}
