{
 "cells": [
  {
   "cell_type": "code",
   "execution_count": 1,
   "metadata": {},
   "outputs": [],
   "source": [
    "import os\n",
    "import get_api_data,git_local\n",
    "import pandas as pd\n",
    "from flatten_dict import flatten\n",
    "from datetime import datetime\n",
    "from dateutil import relativedelta\n",
    "import pprint\n",
    "import json\n",
    "from pathlib import Path, PureWindowsPath\n",
    "import platform\n",
    "import shutil\n",
    "import stat"
   ]
  },
  {
   "cell_type": "code",
   "execution_count": 2,
   "metadata": {},
   "outputs": [],
   "source": [
    "access_token = 'ef66b5bf5fd6c14d63586bf00caa9e72c78cc675'\n",
    "repo_owner = 'rspec'\n",
    "git_url = 'git://github.com/rspec/rspec-rails.git'\n",
    "api_base_url = 'https://api.github.com'\n",
    "repo_name = 'rspec-rails'\n",
    "# repo_name = git_url.split('/')[-1].split('.')[0]\n",
    "client = get_api_data.get_data(access_token,repo_owner,api_base_url,repo_name) "
   ]
  },
  {
   "cell_type": "code",
   "execution_count": 3,
   "metadata": {},
   "outputs": [],
   "source": [
    "local = git_local.git_local(git_url,repo_name)"
   ]
  },
  {
   "cell_type": "code",
   "execution_count": 4,
   "metadata": {},
   "outputs": [
    {
     "data": {
      "text/plain": [
       "'E:\\\\NCSU drive\\\\Sem 2\\\\SE\\\\csc510-project\\\\code_base\\\\git_access\\\\temp_repo\\\\rspec-rails'"
      ]
     },
     "execution_count": 4,
     "metadata": {},
     "output_type": "execute_result"
    }
   ],
   "source": [
    "local.clone_repo()\n",
    "path = local.repo_path\n",
    "path"
   ]
  },
  {
   "cell_type": "code",
   "execution_count": 11,
   "metadata": {},
   "outputs": [
    {
     "ename": "SyntaxError",
     "evalue": "invalid token (<ipython-input-11-632ca47a8e80>, line 1)",
     "output_type": "error",
     "traceback": [
      "\u001b[1;36m  File \u001b[1;32m\"<ipython-input-11-632ca47a8e80>\"\u001b[1;36m, line \u001b[1;32m1\u001b[0m\n\u001b[1;33m    os.chmod(path, 0777)\u001b[0m\n\u001b[1;37m                      ^\u001b[0m\n\u001b[1;31mSyntaxError\u001b[0m\u001b[1;31m:\u001b[0m invalid token\n"
     ]
    }
   ],
   "source": [
    "os.remove()"
   ]
  },
  {
   "cell_type": "code",
   "execution_count": 5,
   "metadata": {},
   "outputs": [],
   "source": [
    "flag = False\n",
    "root = \"\"\n",
    "if platform.system() == 'Darwin' or platform.system() == 'Linux':\n",
    "    root = path + \"/\"\n",
    "else:\n",
    "    flag = True\n",
    "    root = path + \"\\\\\"\n",
    "    \n",
    "def path_to_dict(path):\n",
    "    d = {'name': os.path.basename(path)}\n",
    "    rel = path.replace(root,'')\n",
    "    if flag:\n",
    "        rel = '/'.join(rel.split('\\\\'))\n",
    "    d['path'] = rel\n",
    "    if os.path.isdir(path):\n",
    "        d['type'] = r\"directory\"\n",
    "        d['children'] = [path_to_dict(os.path.join(path,x)) for x in os.listdir\\\n",
    "(path)]\n",
    "    else:\n",
    "        d['type'] = \"file\"\n",
    "    return d\n",
    "\n",
    "structure = json.dumps(path_to_dict(path))\n",
    "file = open(\"f3.json\",\"w\")\n",
    "file.write(structure)\n",
    "file.close()\n"
   ]
  },
  {
   "cell_type": "code",
   "execution_count": 10,
   "metadata": {},
   "outputs": [],
   "source": []
  }
 ],
 "metadata": {
  "kernelspec": {
   "display_name": "Python 3",
   "language": "python",
   "name": "python3"
  },
  "language_info": {
   "codemirror_mode": {
    "name": "ipython",
    "version": 3
   },
   "file_extension": ".py",
   "mimetype": "text/x-python",
   "name": "python",
   "nbconvert_exporter": "python",
   "pygments_lexer": "ipython3",
   "version": "3.6.7"
  }
 },
 "nbformat": 4,
 "nbformat_minor": 2
}
